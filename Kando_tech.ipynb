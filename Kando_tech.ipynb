{
 "cells": [
  {
   "cell_type": "code",
   "execution_count": 1,
   "metadata": {
    "id": "F7EDIMyH5SVo"
   },
   "outputs": [],
   "source": [
    "import pandas as pd\n",
    "import requests\n",
    "from bs4 import BeautifulSoup"
   ]
  },
  {
   "cell_type": "code",
   "execution_count": 2,
   "metadata": {
    "id": "-a53_8Kl767M"
   },
   "outputs": [],
   "source": [
    "headers = {'User-Agent': 'Mozilla/5.0 (Windows NT 6.3; Win 64 ; x64) Apple WeKit /537.36(KHTML , like Gecko) Chrome/80.0.3987.162 Safari/537.36'}\n"
   ]
  },
  {
   "cell_type": "code",
   "execution_count": 3,
   "metadata": {
    "id": "QK9G0R0O8tC2"
   },
   "outputs": [],
   "source": [
    "webpage = requests.get(\"https://kando.tech/investors/all?page=1\",headers=headers).text"
   ]
  },
  {
   "cell_type": "code",
   "execution_count": 7,
   "metadata": {
    "id": "d08v1dBO86vJ"
   },
   "outputs": [],
   "source": [
    "soup=BeautifulSoup(webpage,'lxml')"
   ]
  },
  {
   "cell_type": "code",
   "execution_count": null,
   "metadata": {
    "id": "10o717I09xSy"
   },
   "outputs": [],
   "source": [
    "for i in soup.find(\"div\",class_=\"view-content\"):\n",
    "  print(i.text.strip())"
   ]
  },
  {
   "cell_type": "code",
   "execution_count": 51,
   "metadata": {
    "id": "Qt_PNWKy_wYN"
   },
   "outputs": [
    {
     "name": "stdout",
     "output_type": "stream",
     "text": [
      "TPG Growth LLC\n",
      "TPG Capital LP\n",
      "US Venture Partners. (USVP)\n",
      "3i Group PLC\n",
      "Benchmark Capital\n",
      "Canaan Partners\n",
      "Band of Angels Management LLC\n",
      "GTCR Capital Partners\n",
      "Matrix Management Corp (Matrix Partners)\n",
      "First Round Capital\n",
      "Battery Ventures LP\n",
      "Rho Capital Partners (Rho Ventures)\n",
      "TA Associates Inc\n",
      "Hercules Technology Growth Capital Inc\n",
      "Morgenthaler Management Partners (Morgenthaler Ventures),  (Morgenthaler Partners)\n",
      "Austin Ventures\n",
      "California State Teachers' Retirement System (CalSTRS)\n",
      "Redpoint Ventures\n",
      "General Catalyst Partners\n",
      "Charles River Ventures (CRV)\n"
     ]
    }
   ],
   "source": [
    "for i in soup.find_all(\"td\",class_=\"views-field views-field-field-investor\"):\n",
    "  print(i.text.strip())"
   ]
  },
  {
   "cell_type": "code",
   "execution_count": 53,
   "metadata": {
    "id": "hsdg4rf_D8_W"
   },
   "outputs": [
    {
     "name": "stdout",
     "output_type": "stream",
     "text": [
      "United States\n",
      "United States\n",
      "United States\n",
      "United Kingdom\n",
      "United States\n",
      "United States\n",
      "United States\n",
      "United States\n",
      "United States\n",
      "United States\n",
      "United States\n",
      "United States\n",
      "United States\n",
      "United States\n",
      "United States\n",
      "United States\n",
      "United States\n",
      "United States\n",
      "United States\n",
      "United States\n"
     ]
    }
   ],
   "source": [
    "for i in soup.find_all(\"td\",class_=\"views-field views-field-field-country\"):\n",
    "  print(i.text.strip())"
   ]
  },
  {
   "cell_type": "code",
   "execution_count": 55,
   "metadata": {
    "id": "52G3LbsFEubO"
   },
   "outputs": [
    {
     "name": "stdout",
     "output_type": "stream",
     "text": [
      "The middle market and growth equity investment platform of TPG.\n",
      "Private equity firm\n",
      "Silicon Valley venture capital firm.\n",
      "Major, long established, quoted private equity investor\n",
      "Early stage venture capital firm focused on social, mobile, local and cloud companies.\n",
      "Venture capital firm with a focus on early stage technology and healthcare companies\n",
      "Formal group of 165+ angel investors, mostly former and current high tech executives, who invest into technology startups.\n",
      "Mezzanine debt fund managed by GTCR.\n",
      "Venture capital firm.\n",
      "Venture capital firm that specialises in providing seed-stage funding to technology companies.\n",
      "Venture capital firm\n",
      "Venture capital firm that actively invests in companies related to technology, new media, cleaning technology and healthcare.\n",
      "Global growth private equity firm.\n",
      "Specialised finance company providing debt and equity growth capital to technology-related companies at all stages of development.\n",
      "One of the oldest private equity investment firms in the US investing through both venture capital and leverage buyout transactions.\n",
      "Private equity firm focused on VC and growth investments in business services, supply chain, financial services, new media, Internet, info services.\n",
      "Provider of retirement, disability and survivor benefits for full-time and part-time California public school educators.\n",
      "Venture capital capital firm that invests in startups across the seed, early and growth phases.\n",
      "Venture capital firm that makes early-stage and transformational investments.\n",
      "Independent venture capital firm\n"
     ]
    }
   ],
   "source": [
    "for i in soup.find_all(\"td\",class_=\"views-field views-field-field-co-summary\"):\n",
    "  print(i.text.strip())"
   ]
  },
  {
   "cell_type": "code",
   "execution_count": 57,
   "metadata": {
    "id": "uoGXF18sFZ7u"
   },
   "outputs": [
    {
     "name": "stdout",
     "output_type": "stream",
     "text": [
      "268\n",
      "257\n",
      "253\n",
      "247\n",
      "246\n",
      "242\n",
      "241\n",
      "234\n",
      "223\n",
      "221\n",
      "219\n",
      "216\n",
      "213\n",
      "209\n",
      "208\n",
      "203\n",
      "198\n",
      "195\n",
      "192\n",
      "187\n"
     ]
    }
   ],
   "source": [
    "for i in soup.find_all(\"td\",class_=\"views-field views-field-nid views-align-right\"):\n",
    "  print(i.text.strip())"
   ]
  },
  {
   "cell_type": "code",
   "execution_count": null,
   "metadata": {
    "id": "-FloLQ89eaD7"
   },
   "outputs": [],
   "source": []
  },
  {
   "cell_type": "code",
   "execution_count": 60,
   "metadata": {
    "id": "EOIhizreeaNP"
   },
   "outputs": [],
   "source": [
    "company0 = soup.find_all(\"div\",class_=\"view-content\")"
   ]
  },
  {
   "cell_type": "code",
   "execution_count": 62,
   "metadata": {
    "colab": {
     "base_uri": "https://localhost:8080/"
    },
    "id": "cDgNdFHweaQz",
    "outputId": "93709060-76f0-479f-81f8-f3e745674933"
   },
   "outputs": [
    {
     "data": {
      "text/plain": [
       "1"
      ]
     },
     "execution_count": 62,
     "metadata": {},
     "output_type": "execute_result"
    }
   ],
   "source": [
    "len(company0)"
   ]
  },
  {
   "cell_type": "code",
   "execution_count": 68,
   "metadata": {
    "colab": {
     "base_uri": "https://localhost:8080/"
    },
    "id": "ns25lWhGeaXV",
    "outputId": "ca3d33e9-0b62-4b2e-85aa-367991170980"
   },
   "outputs": [
    {
     "name": "stdout",
     "output_type": "stream",
     "text": [
      "        Investors        Country  \\\n",
      "0  TPG Growth LLC  United States   \n",
      "\n",
      "                                             Profile Deal  \n",
      "0  The middle market and growth equity investment...  268  \n"
     ]
    }
   ],
   "source": [
    "\n",
    "\n",
    "Investors = []\n",
    "Country = []\n",
    "Profile = []\n",
    "Deal = []\n",
    "\n",
    "if company0:\n",
    "    for i in company0:\n",
    "        if i is not None:\n",
    "            Investors.append(i.find('td', class_='views-field views-field-field-investor') and i.find('td', class_='views-field views-field-field-investor').text.strip() or '')\n",
    "            Country.append(i.find(\"td\",class_=\"views-field views-field-field-country\") and i.find(\"td\",class_=\"views-field views-field-field-country\").text.strip() or '')\n",
    "            Profile.append(i.find(\"td\",class_=\"views-field views-field-field-co-summary\") and i.find(\"td\",class_=\"views-field views-field-field-co-summary\").text.strip() or '')\n",
    "            Deal.append(i.find(\"td\",class_=\"views-field views-field-nid views-align-right\") and i.find(\"td\",class_=\"views-field views-field-nid views-align-right\").text.strip() or '')\n",
    "else:\n",
    "    print(\"company0 is empty\")\n",
    "\n",
    "d = {\"Investors\": Investors, \"Country\": Country, \"Profile\": Profile, \"Deal\": Deal}\n",
    "\n",
    "df = pd.DataFrame(d)\n",
    "print(df)\n"
   ]
  },
  {
   "cell_type": "code",
   "execution_count": null,
   "metadata": {
    "id": "Sze9-un9eaae"
   },
   "outputs": [],
   "source": [
    "for i in soup.find(\"div\",class_=\"view-content\"):\n",
    "  print(i.text.strip())"
   ]
  },
  {
   "cell_type": "code",
   "execution_count": null,
   "metadata": {
    "id": "HOxqk0tVeaiF"
   },
   "outputs": [],
   "source": []
  },
  {
   "cell_type": "code",
   "execution_count": 72,
   "metadata": {
    "id": "iExRXTWQeanl"
   },
   "outputs": [],
   "source": [
    "for i in company0:\n",
    "  i.find_all('td', class_='views-field views-field-field-investor')"
   ]
  },
  {
   "cell_type": "code",
   "execution_count": 74,
   "metadata": {
    "colab": {
     "base_uri": "https://localhost:8080/"
    },
    "id": "f4QuglV8eaqM",
    "outputId": "83b8ded2-b367-47d0-bb1d-e7d8c587cf3e"
   },
   "outputs": [
    {
     "data": {
      "text/plain": [
       "{'Investors': ['TPG Growth LLC'],\n",
       " 'Country': ['United States'],\n",
       " 'Profile': ['The middle market and growth equity investment platform of TPG.'],\n",
       " 'Deal': ['268']}"
      ]
     },
     "execution_count": 74,
     "metadata": {},
     "output_type": "execute_result"
    }
   ],
   "source": [
    "Investors = []\n",
    "Country = []\n",
    "Profile = []\n",
    "Deal = []\n",
    "\n",
    "for i in company0:\n",
    "    # Find the element and then extract the text\n",
    "    investor_element = i.find(\"td\", class_=\"views-field views-field-field-investor\")\n",
    "    Investors.append(investor_element.text.strip() if investor_element else None)  \n",
    "\n",
    "    country_element = i.find(\"td\", class_=\"views-field views-field-field-country\")\n",
    "    Country.append(country_element.text.strip() if country_element else None)\n",
    "\n",
    "    profile_element = i.find(\"td\", class_=\"views-field views-field-field-co-summary\")\n",
    "    Profile.append(profile_element.text.strip() if profile_element else None)\n",
    "\n",
    "    deal_element = i.find(\"td\", class_=\"views-field views-field-nid views-align-right\")\n",
    "    Deal.append(deal_element.text.strip() if deal_element else None)\n",
    "\n",
    "d = {\"Investors\": Investors, \"Country\": Country, \"Profile\": Profile, \"Deal\": Deal}\n",
    "\n",
    "df = pd.DataFrame(d)\n",
    "d"
   ]
  },
  {
   "cell_type": "code",
   "execution_count": null,
   "metadata": {
    "id": "KMvrBvBbqc4s"
   },
   "outputs": [],
   "source": []
  },
  {
   "cell_type": "code",
   "execution_count": 77,
   "metadata": {
    "id": "O36TddAWFy8O"
   },
   "outputs": [],
   "source": [
    "company = soup.find_all(\"div\",class_=\"dialog-off-canvas-main-canvas\")"
   ]
  },
  {
   "cell_type": "code",
   "execution_count": 79,
   "metadata": {
    "id": "8yVQeinkHTlf"
   },
   "outputs": [
    {
     "data": {
      "text/plain": [
       "1"
      ]
     },
     "execution_count": 79,
     "metadata": {},
     "output_type": "execute_result"
    }
   ],
   "source": [
    "len(company)"
   ]
  },
  {
   "cell_type": "code",
   "execution_count": 81,
   "metadata": {
    "id": "0l3P2uZMHWI3"
   },
   "outputs": [],
   "source": [
    "company1 = soup.find_all(\"div\",class_=\"layout-container\")"
   ]
  },
  {
   "cell_type": "code",
   "execution_count": 83,
   "metadata": {
    "id": "yWHU0TskHsQV"
   },
   "outputs": [
    {
     "data": {
      "text/plain": [
       "2"
      ]
     },
     "execution_count": 83,
     "metadata": {},
     "output_type": "execute_result"
    }
   ],
   "source": [
    "len(company1)"
   ]
  },
  {
   "cell_type": "code",
   "execution_count": 85,
   "metadata": {
    "id": "J0uDVSpWHvW9"
   },
   "outputs": [],
   "source": [
    "company2 = soup.find_all(\"div\",class_=\"region region-content\")"
   ]
  },
  {
   "cell_type": "code",
   "execution_count": 87,
   "metadata": {
    "id": "ywyFozllICbN"
   },
   "outputs": [
    {
     "data": {
      "text/plain": [
       "1"
      ]
     },
     "execution_count": 87,
     "metadata": {},
     "output_type": "execute_result"
    }
   ],
   "source": [
    "len(company2)"
   ]
  },
  {
   "cell_type": "code",
   "execution_count": 89,
   "metadata": {
    "id": "P4_1eKAYIDst"
   },
   "outputs": [],
   "source": [
    "company5 = soup.find_all(\"div\",class_=\"investor-class\")\n"
   ]
  },
  {
   "cell_type": "code",
   "execution_count": null,
   "metadata": {
    "id": "m6i_Hc0Gt_DE"
   },
   "outputs": [],
   "source": []
  },
  {
   "cell_type": "code",
   "execution_count": 94,
   "metadata": {
    "colab": {
     "base_uri": "https://localhost:8080/"
    },
    "id": "ixdHLgyet_Gk",
    "outputId": "4234eb03-638f-4a02-f3f7-55d00564457a"
   },
   "outputs": [
    {
     "name": "stdout",
     "output_type": "stream",
     "text": [
      "Scraped page 0\n",
      "Scraped page 1\n",
      "Scraped page 2\n",
      "Scraped page 3\n",
      "Scraped page 4\n",
      "Scraped page 5\n",
      "Data saved to kando_investors_data.csv\n"
     ]
    }
   ],
   "source": [
    "import pandas as pd\n",
    "import requests\n",
    "from bs4 import BeautifulSoup\n",
    "\n",
    "headers = {'User-Agent': 'Mozilla/5.0 (Windows NT 6.3; Win 64 ; x64) AppleWebKit /537.36(KHTML, like Gecko) Chrome/80.0.3987.162 Safari/537.36'}\n",
    "\n",
    "# Function to scrape a single page\n",
    "def scrape_page(page_number):\n",
    "    url = f\"https://kando.tech/investors/all?page={page_number}\"\n",
    "    response = requests.get(url, headers=headers)\n",
    "    soup = BeautifulSoup(response.text, 'lxml')\n",
    "\n",
    "    investors = []\n",
    "    countries = []\n",
    "    profiles = []\n",
    "    deals = []\n",
    "\n",
    "    # Extract data from this page\n",
    "    for i in soup.find_all(\"td\", class_=\"views-field views-field-field-investor\"):\n",
    "        investors.append(i.text.strip())\n",
    "\n",
    "    for i in soup.find_all(\"td\", class_=\"views-field views-field-field-country\"):\n",
    "        countries.append(i.text.strip())\n",
    "\n",
    "    for i in soup.find_all(\"td\", class_=\"views-field views-field-field-co-summary\"):\n",
    "        profiles.append(i.text.strip())\n",
    "\n",
    "    for i in soup.find_all(\"td\", class_=\"views-field views-field-nid views-align-right\"):\n",
    "        deals.append(i.text.strip())\n",
    "\n",
    "    return investors, countries, profiles, deals\n",
    "\n",
    "# Scrape multiple pages\n",
    "all_investors = []\n",
    "all_countries = []\n",
    "all_profiles = []\n",
    "all_deals = []\n",
    "\n",
    "for page_number in range(0, 6):  # Adjust this number based on how many pages you want to scrape\n",
    "    try:\n",
    "        investors, countries, profiles, deals = scrape_page(page_number)\n",
    "        all_investors.extend(investors)\n",
    "        all_countries.extend(countries)\n",
    "        all_profiles.extend(profiles)\n",
    "        all_deals.extend(deals)\n",
    "\n",
    "        print(f\"Scraped page {page_number}\")\n",
    "    except Exception as e:\n",
    "        print(f\"Error scraping page {page_number}: {e}\")\n",
    "\n",
    "# Create DataFrame\n",
    "data = {\n",
    "    \"Investors\": all_investors,\n",
    "    \"Country\": all_countries,\n",
    "    \"Profile\": all_profiles,\n",
    "    \"Deal\": all_deals\n",
    "}\n",
    "\n",
    "df = pd.DataFrame(data)\n",
    "\n",
    "# Save the DataFrame to a CSV file\n",
    "df.to_csv('kando_investors_data3.csv', index=False)\n",
    "print(\"Data saved to kando_investors_data.csv\")\n"
   ]
  },
  {
   "cell_type": "code",
   "execution_count": 96,
   "metadata": {
    "id": "YtV5hiiLuBMy"
   },
   "outputs": [
    {
     "data": {
      "text/html": [
       "<div>\n",
       "<style scoped>\n",
       "    .dataframe tbody tr th:only-of-type {\n",
       "        vertical-align: middle;\n",
       "    }\n",
       "\n",
       "    .dataframe tbody tr th {\n",
       "        vertical-align: top;\n",
       "    }\n",
       "\n",
       "    .dataframe thead th {\n",
       "        text-align: right;\n",
       "    }\n",
       "</style>\n",
       "<table border=\"1\" class=\"dataframe\">\n",
       "  <thead>\n",
       "    <tr style=\"text-align: right;\">\n",
       "      <th></th>\n",
       "      <th>Investors</th>\n",
       "      <th>Country</th>\n",
       "      <th>Profile</th>\n",
       "      <th>Deal</th>\n",
       "    </tr>\n",
       "  </thead>\n",
       "  <tbody>\n",
       "    <tr>\n",
       "      <th>0</th>\n",
       "      <td>New Enterprise Associates Inc (NEA)</td>\n",
       "      <td>United States</td>\n",
       "      <td>Global venture capital firm focused on helping...</td>\n",
       "      <td>706</td>\n",
       "    </tr>\n",
       "    <tr>\n",
       "      <th>1</th>\n",
       "      <td>Sequoia Capital Operations LLC (Sequoia)</td>\n",
       "      <td>United States</td>\n",
       "      <td>Venture capital firm.</td>\n",
       "      <td>636</td>\n",
       "    </tr>\n",
       "    <tr>\n",
       "      <th>2</th>\n",
       "      <td>Norwest Venture Partners (NVP),  (Norwest Vent...</td>\n",
       "      <td>United States</td>\n",
       "      <td>Venture capital firm.</td>\n",
       "      <td>618</td>\n",
       "    </tr>\n",
       "    <tr>\n",
       "      <th>3</th>\n",
       "      <td>Western Technology Investment (WTI)</td>\n",
       "      <td>United States</td>\n",
       "      <td>Venture debt firm investing debt and equity ca...</td>\n",
       "      <td>606</td>\n",
       "    </tr>\n",
       "    <tr>\n",
       "      <th>4</th>\n",
       "      <td>Kleiner Perkins Caufield &amp; Byers LLC (KPCB)</td>\n",
       "      <td>United States</td>\n",
       "      <td>Venture capital firm.</td>\n",
       "      <td>530</td>\n",
       "    </tr>\n",
       "  </tbody>\n",
       "</table>\n",
       "</div>"
      ],
      "text/plain": [
       "                                           Investors        Country  \\\n",
       "0                New Enterprise Associates Inc (NEA)  United States   \n",
       "1           Sequoia Capital Operations LLC (Sequoia)  United States   \n",
       "2  Norwest Venture Partners (NVP),  (Norwest Vent...  United States   \n",
       "3                Western Technology Investment (WTI)  United States   \n",
       "4        Kleiner Perkins Caufield & Byers LLC (KPCB)  United States   \n",
       "\n",
       "                                             Profile Deal  \n",
       "0  Global venture capital firm focused on helping...  706  \n",
       "1                              Venture capital firm.  636  \n",
       "2                              Venture capital firm.  618  \n",
       "3  Venture debt firm investing debt and equity ca...  606  \n",
       "4                              Venture capital firm.  530  "
      ]
     },
     "execution_count": 96,
     "metadata": {},
     "output_type": "execute_result"
    }
   ],
   "source": [
    "df.head()"
   ]
  },
  {
   "cell_type": "code",
   "execution_count": 102,
   "metadata": {},
   "outputs": [
    {
     "data": {
      "text/plain": [
       "(120, 4)"
      ]
     },
     "execution_count": 102,
     "metadata": {},
     "output_type": "execute_result"
    }
   ],
   "source": [
    "df.shape      #In one page there are total 20 data so for the six page it is 120(20x6) "
   ]
  },
  {
   "cell_type": "code",
   "execution_count": 106,
   "metadata": {},
   "outputs": [
    {
     "data": {
      "text/plain": [
       "Investors    120\n",
       "Country      120\n",
       "Profile      120\n",
       "Deal         120\n",
       "dtype: int64"
      ]
     },
     "execution_count": 106,
     "metadata": {},
     "output_type": "execute_result"
    }
   ],
   "source": [
    "df.count()"
   ]
  },
  {
   "cell_type": "code",
   "execution_count": 108,
   "metadata": {},
   "outputs": [
    {
     "data": {
      "text/plain": [
       "'C:\\\\Users\\\\ADMIN\\\\Webscraping\\\\Kando'"
      ]
     },
     "execution_count": 108,
     "metadata": {},
     "output_type": "execute_result"
    }
   ],
   "source": [
    "pwd"
   ]
  },
  {
   "cell_type": "code",
   "execution_count": null,
   "metadata": {},
   "outputs": [],
   "source": []
  }
 ],
 "metadata": {
  "colab": {
   "provenance": []
  },
  "kernelspec": {
   "display_name": "Python [conda env:base] *",
   "language": "python",
   "name": "conda-base-py"
  },
  "language_info": {
   "codemirror_mode": {
    "name": "ipython",
    "version": 3
   },
   "file_extension": ".py",
   "mimetype": "text/x-python",
   "name": "python",
   "nbconvert_exporter": "python",
   "pygments_lexer": "ipython3",
   "version": "3.12.7"
  }
 },
 "nbformat": 4,
 "nbformat_minor": 4
}
